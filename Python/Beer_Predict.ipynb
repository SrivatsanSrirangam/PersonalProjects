{
 "cells": [
  {
   "cell_type": "markdown",
   "id": "9383ea4f",
   "metadata": {},
   "source": [
    "# Srivatsan Srirangam"
   ]
  },
  {
   "cell_type": "code",
   "execution_count": 2,
   "id": "bbe75436",
   "metadata": {},
   "outputs": [],
   "source": [
    "import pandas as pd\n",
    "import numpy as np\n",
    "import seaborn as sb\n",
    "import matplotlib.pyplot as plt\n",
    "from sklearn.model_selection import train_test_split\n",
    "# notebook imports\n",
    "\n",
    "\n",
    "\n",
    "from sklearn import tree\n",
    "\n",
    "from sklearn.metrics import classification_report\n",
    "#Models\n",
    "from sklearn.linear_model import LogisticRegression\n",
    "from sklearn.naive_bayes import BernoulliNB\n",
    "from sklearn.neighbors import KNeighborsClassifier\n",
    "from sklearn.tree import DecisionTreeClassifier\n",
    "from sklearn.linear_model import LinearRegression\n",
    "#Import Random Forest Model\n",
    "from sklearn.ensemble import RandomForestClassifier\n",
    "import xgboost as xgb\n",
    "\n",
    "#Extras\n",
    "from sklearn.metrics import mean_squared_error, r2_score\n",
    "from sklearn.metrics import accuracy_score, precision_score, recall_score, f1_score"
   ]
  },
  {
   "cell_type": "markdown",
   "id": "f7ea9009",
   "metadata": {},
   "source": [
    "## Binary Classification for ratings"
   ]
  },
  {
   "cell_type": "markdown",
   "id": "307de3c7",
   "metadata": {},
   "source": [
    "### Read the data"
   ]
  },
  {
   "cell_type": "code",
   "execution_count": null,
   "id": "102aad0f",
   "metadata": {},
   "outputs": [],
   "source": [
    "df = pd.read_csv('beer_profile_and_ratings.csv')\n",
    "#print(df.head())\n",
    "print('\\nDimensions of data frame:', df.shape)\n",
    "for col in df.columns:\n",
    "    print(col)"
   ]
  },
  {
   "cell_type": "markdown",
   "id": "df493508",
   "metadata": {},
   "source": [
    "### Clean the data"
   ]
  },
  {
   "cell_type": "code",
   "execution_count": 3,
   "id": "9b5155e3",
   "metadata": {},
   "outputs": [
    {
     "name": "stdout",
     "output_type": "stream",
     "text": [
      "\n",
      "New Dimensions of data frame: (3197, 20)\n"
     ]
    },
    {
     "data": {
      "text/plain": [
       "['ABV',\n",
       " 'Min IBU',\n",
       " 'Max IBU',\n",
       " 'Astringency',\n",
       " 'Body',\n",
       " 'Alcohol',\n",
       " 'Bitter',\n",
       " 'Sweet',\n",
       " 'Sour',\n",
       " 'Salty',\n",
       " 'Fruits',\n",
       " 'Hoppy',\n",
       " 'Spices',\n",
       " 'Malty',\n",
       " 'review_aroma',\n",
       " 'review_appearance',\n",
       " 'review_palate',\n",
       " 'review_taste',\n",
       " 'review_overall',\n",
       " 'number_of_reviews']"
      ]
     },
     "execution_count": 3,
     "metadata": {},
     "output_type": "execute_result"
    }
   ],
   "source": [
    "#Remove unwanted columns\n",
    "df = df.drop(columns=['Name','Style','Brewery','Beer Name (Full)','Description',])\n",
    "# drop rows with NAs\n",
    "df = df.dropna()\n",
    "# output new dimensions\n",
    "print('\\nNew Dimensions of data frame:', df.shape)\n",
    "list(df.columns)"
   ]
  },
  {
   "cell_type": "markdown",
   "id": "7761e9be",
   "metadata": {},
   "source": [
    "### Categorize the columns"
   ]
  },
  {
   "cell_type": "code",
   "execution_count": 4,
   "id": "7a269292",
   "metadata": {},
   "outputs": [
    {
     "data": {
      "text/plain": [
       "['ABV',\n",
       " 'Min IBU',\n",
       " 'Max IBU',\n",
       " 'Astringency',\n",
       " 'Body',\n",
       " 'Alcohol',\n",
       " 'Bitter',\n",
       " 'Sweet',\n",
       " 'Sour',\n",
       " 'Salty',\n",
       " 'Fruits',\n",
       " 'Hoppy',\n",
       " 'Spices',\n",
       " 'Malty',\n",
       " 'number_of_reviews',\n",
       " 'taste_good',\n",
       " 'aroma_good',\n",
       " 'palate_good',\n",
       " 'appearance_good']"
      ]
     },
     "execution_count": 4,
     "metadata": {},
     "output_type": "execute_result"
    }
   ],
   "source": [
    "review_threshold=3.5\n",
    "df['taste_good'] = np.where(df['review_taste']>=review_threshold, 1, 0)\n",
    "df['aroma_good'] = np.where(df['review_aroma']>=review_threshold, 1, 0)\n",
    "df['palate_good'] = np.where(df['review_palate']>=review_threshold, 1, 0)\n",
    "df['appearance_good'] = np.where(df['review_appearance']>=review_threshold, 1, 0)\n",
    "df = df.drop(columns=['review_aroma','review_appearance','review_palate','review_taste','review_overall'])\n",
    "list(df.columns)"
   ]
  },
  {
   "cell_type": "markdown",
   "id": "e42c97aa",
   "metadata": {},
   "source": [
    "### Describe columns"
   ]
  },
  {
   "cell_type": "code",
   "execution_count": 5,
   "id": "d18dcb1c",
   "metadata": {},
   "outputs": [
    {
     "data": {
      "text/plain": [
       "count    3197.000000\n",
       "mean      233.284955\n",
       "std       361.811847\n",
       "min         1.000000\n",
       "25%        23.000000\n",
       "50%        93.000000\n",
       "75%       284.000000\n",
       "max      3290.000000\n",
       "Name: number_of_reviews, dtype: float64"
      ]
     },
     "execution_count": 5,
     "metadata": {},
     "output_type": "execute_result"
    }
   ],
   "source": [
    "df['number_of_reviews'].describe()"
   ]
  },
  {
   "cell_type": "markdown",
   "id": "51ff9271",
   "metadata": {},
   "source": []
  },
  {
   "cell_type": "markdown",
   "id": "73a80f96",
   "metadata": {},
   "source": [
    "### Prepare for training"
   ]
  },
  {
   "cell_type": "code",
   "execution_count": 6,
   "id": "44919583",
   "metadata": {},
   "outputs": [
    {
     "name": "stdout",
     "output_type": "stream",
     "text": [
      "\n",
      "X train dimensions: (2397, 14)  X test dimensions (800, 14)\n",
      "\n",
      "Y train dimensions: (2397,)  Y test dimensions (800,)\n"
     ]
    }
   ],
   "source": [
    "#Predictors\n",
    "X = df.loc[:, [ 'ABV','Min IBU','Max IBU','Astringency','Body','Alcohol','Bitter','Sweet','Sour','Salty','Fruits','Hoppy','Spices','Malty']]\n",
    "#Response\n",
    "y = {}\n",
    "y = df.taste_good\n",
    "# 75% train 25% test\n",
    "X_train, X_test, y_train, y_test = train_test_split(X, y, test_size=0.25, random_state=1234)\n",
    "print('\\nX train dimensions:', X_train.shape, ' X test dimensions', X_test.shape)\n",
    "print('\\nY train dimensions:', y_train.shape, ' Y test dimensions', y_test.shape)"
   ]
  },
  {
   "cell_type": "markdown",
   "id": "cc72faa6",
   "metadata": {},
   "source": [
    "### Load Models "
   ]
  },
  {
   "cell_type": "code",
   "execution_count": 7,
   "id": "9f1930c5",
   "metadata": {},
   "outputs": [],
   "source": [
    "models = [\n",
    "    ['Logistic_Regression', LogisticRegression()],\n",
    "    ['Naive_Bayes ', BernoulliNB()],\n",
    "    ['kNN_Regression', KNeighborsClassifier(n_neighbors=5)],\n",
    "    ['Decision_Tree', DecisionTreeClassifier()]\n",
    "]"
   ]
  },
  {
   "cell_type": "markdown",
   "id": "f23224f6",
   "metadata": {},
   "source": [
    "### Fit the models"
   ]
  },
  {
   "cell_type": "code",
   "execution_count": 8,
   "id": "23d2cd74",
   "metadata": {},
   "outputs": [
    {
     "name": "stderr",
     "output_type": "stream",
     "text": [
      "/Library/Frameworks/Python.framework/Versions/3.10/lib/python3.10/site-packages/sklearn/linear_model/_logistic.py:444: ConvergenceWarning: lbfgs failed to converge (status=1):\n",
      "STOP: TOTAL NO. of ITERATIONS REACHED LIMIT.\n",
      "\n",
      "Increase the number of iterations (max_iter) or scale the data as shown in:\n",
      "    https://scikit-learn.org/stable/modules/preprocessing.html\n",
      "Please also refer to the documentation for alternative solver options:\n",
      "    https://scikit-learn.org/stable/modules/linear_model.html#logistic-regression\n",
      "  n_iter_i = _check_optimize_result(\n"
     ]
    }
   ],
   "source": [
    "clf_acc = {}\n",
    "\n",
    "\n",
    "for clf, model in models:\n",
    "    model.fit(X_train, y_train)\n",
    "    y_pred = model.predict(X_test)\n",
    "    clf_acc[clf] = accuracy_score(y_test, y_pred)"
   ]
  },
  {
   "cell_type": "markdown",
   "id": "9aebbefa",
   "metadata": {},
   "source": [
    "### Print the accuracies"
   ]
  },
  {
   "cell_type": "code",
   "execution_count": 9,
   "id": "de6e5b83",
   "metadata": {},
   "outputs": [
    {
     "name": "stdout",
     "output_type": "stream",
     "text": [
      "Accuracies for good taste\n",
      "Model: Logistic_Regression \t Accuracy: 0.79625\n",
      "Model: Naive_Bayes  \t Accuracy: 0.7675\n",
      "Model: kNN_Regression \t Accuracy: 0.8125\n",
      "Model: Decision_Tree \t Accuracy: 0.76375\n"
     ]
    }
   ],
   "source": [
    "#Print the accuracies\n",
    "print(\"Accuracies for good taste\")\n",
    "for clf in clf_acc:\n",
    "    print(\"Model:\",clf, '\\t',\"Accuracy:\", clf_acc[clf])"
   ]
  },
  {
   "cell_type": "markdown",
   "id": "0c33538e",
   "metadata": {},
   "source": [
    "### Create and test Models for other responses"
   ]
  },
  {
   "cell_type": "markdown",
   "id": "d72d782c",
   "metadata": {},
   "source": [
    "#### Response: Good aroma"
   ]
  },
  {
   "cell_type": "code",
   "execution_count": 11,
   "id": "75fb7773",
   "metadata": {},
   "outputs": [
    {
     "name": "stdout",
     "output_type": "stream",
     "text": [
      "\n",
      "X train dimensions: (2397, 14)  X test dimensions (800, 14)\n",
      "\n",
      "Y train dimensions: (2397,)  Y test dimensions (800,)\n",
      "Accuracies for good aroma\n",
      "Model: Logistic_Regression \t Accuracy: 0.7825\n",
      "Model: Naive_Bayes  \t Accuracy: 0.705\n",
      "Model: kNN_Regression \t Accuracy: 0.81125\n",
      "Model: Decision_Tree \t Accuracy: 0.7675\n"
     ]
    },
    {
     "name": "stderr",
     "output_type": "stream",
     "text": [
      "/Library/Frameworks/Python.framework/Versions/3.10/lib/python3.10/site-packages/sklearn/linear_model/_logistic.py:444: ConvergenceWarning: lbfgs failed to converge (status=1):\n",
      "STOP: TOTAL NO. of ITERATIONS REACHED LIMIT.\n",
      "\n",
      "Increase the number of iterations (max_iter) or scale the data as shown in:\n",
      "    https://scikit-learn.org/stable/modules/preprocessing.html\n",
      "Please also refer to the documentation for alternative solver options:\n",
      "    https://scikit-learn.org/stable/modules/linear_model.html#logistic-regression\n",
      "  n_iter_i = _check_optimize_result(\n"
     ]
    }
   ],
   "source": [
    "#Response\n",
    "y = {}\n",
    "y = df.aroma_good\n",
    "# 75% train 25% test\n",
    "X_train, X_test, y_train, y_test = train_test_split(X, y, test_size=0.25, random_state=1234)\n",
    "print('\\nX train dimensions:', X_train.shape, ' X test dimensions', X_test.shape)\n",
    "print('\\nY train dimensions:', y_train.shape, ' Y test dimensions', y_test.shape)\n",
    "\n",
    "models = [\n",
    "    ['Logistic_Regression', LogisticRegression()],\n",
    "    ['Naive_Bayes ', BernoulliNB()],\n",
    "    ['kNN_Regression', KNeighborsClassifier(n_neighbors=5)],\n",
    "    ['Decision_Tree', DecisionTreeClassifier()]\n",
    "]\n",
    "\n",
    "clf_acc = {}\n",
    "\n",
    "\n",
    "for clf, model in models:\n",
    "    model.fit(X_train, y_train)\n",
    "    y_pred = model.predict(X_test)\n",
    "    clf_acc[clf] = accuracy_score(y_test, y_pred)\n",
    "\n",
    "#Print the accuracies\n",
    "print(\"Accuracies for good aroma\")\n",
    "for clf in clf_acc:\n",
    "    print(\"Model:\",clf, '\\t',\"Accuracy:\", clf_acc[clf])"
   ]
  },
  {
   "cell_type": "markdown",
   "id": "33720549",
   "metadata": {},
   "source": [
    "#### Response: Good Palate"
   ]
  },
  {
   "cell_type": "code",
   "execution_count": 12,
   "id": "f9146697",
   "metadata": {},
   "outputs": [
    {
     "name": "stdout",
     "output_type": "stream",
     "text": [
      "\n",
      "X train dimensions: (2397, 14)  X test dimensions (800, 14)\n",
      "\n",
      "Y train dimensions: (2397,)  Y test dimensions (800,)\n",
      "Accuracies for good palate\n",
      "Model: Logistic_Regression \t Accuracy: 0.79125\n",
      "Model: Naive_Bayes  \t Accuracy: 0.74625\n",
      "Model: kNN_Regression \t Accuracy: 0.81\n",
      "Model: Decision_Tree \t Accuracy: 0.755\n"
     ]
    },
    {
     "name": "stderr",
     "output_type": "stream",
     "text": [
      "/Library/Frameworks/Python.framework/Versions/3.10/lib/python3.10/site-packages/sklearn/linear_model/_logistic.py:444: ConvergenceWarning: lbfgs failed to converge (status=1):\n",
      "STOP: TOTAL NO. of ITERATIONS REACHED LIMIT.\n",
      "\n",
      "Increase the number of iterations (max_iter) or scale the data as shown in:\n",
      "    https://scikit-learn.org/stable/modules/preprocessing.html\n",
      "Please also refer to the documentation for alternative solver options:\n",
      "    https://scikit-learn.org/stable/modules/linear_model.html#logistic-regression\n",
      "  n_iter_i = _check_optimize_result(\n"
     ]
    }
   ],
   "source": [
    "#Response\n",
    "y = {}\n",
    "y = df.palate_good\n",
    "# 75% train 25% test\n",
    "X_train, X_test, y_train, y_test = train_test_split(X, y, test_size=0.25, random_state=1234)\n",
    "print('\\nX train dimensions:', X_train.shape, ' X test dimensions', X_test.shape)\n",
    "print('\\nY train dimensions:', y_train.shape, ' Y test dimensions', y_test.shape)\n",
    "\n",
    "models = [\n",
    "    ['Logistic_Regression', LogisticRegression()],\n",
    "    ['Naive_Bayes ', BernoulliNB()],\n",
    "    ['kNN_Regression', KNeighborsClassifier(n_neighbors=5)],\n",
    "    ['Decision_Tree', DecisionTreeClassifier()]\n",
    "]\n",
    "\n",
    "clf_acc = {}\n",
    "\n",
    "\n",
    "for clf, model in models:\n",
    "    model.fit(X_train, y_train)\n",
    "    y_pred = model.predict(X_test)\n",
    "    clf_acc[clf] = accuracy_score(y_test, y_pred)\n",
    "\n",
    "#Print the accuracies\n",
    "print(\"Accuracies for good palate\")\n",
    "for clf in clf_acc:\n",
    "    print(\"Model:\",clf, '\\t',\"Accuracy:\", clf_acc[clf])"
   ]
  },
  {
   "cell_type": "markdown",
   "id": "9a217b99",
   "metadata": {},
   "source": [
    "#### Response: Good appearance"
   ]
  },
  {
   "cell_type": "code",
   "execution_count": 13,
   "id": "d2c607ef",
   "metadata": {},
   "outputs": [
    {
     "name": "stdout",
     "output_type": "stream",
     "text": [
      "\n",
      "X train dimensions: (2397, 14)  X test dimensions (800, 14)\n",
      "\n",
      "Y train dimensions: (2397,)  Y test dimensions (800,)\n",
      "Accuracies for good appearance\n",
      "Model: Logistic_Regression \t Accuracy: 0.8775\n",
      "Model: Naive_Bayes  \t Accuracy: 0.8475\n",
      "Model: kNN_Regression \t Accuracy: 0.885\n",
      "Model: Decision_Tree \t Accuracy: 0.835\n"
     ]
    },
    {
     "name": "stderr",
     "output_type": "stream",
     "text": [
      "/Library/Frameworks/Python.framework/Versions/3.10/lib/python3.10/site-packages/sklearn/linear_model/_logistic.py:444: ConvergenceWarning: lbfgs failed to converge (status=1):\n",
      "STOP: TOTAL NO. of ITERATIONS REACHED LIMIT.\n",
      "\n",
      "Increase the number of iterations (max_iter) or scale the data as shown in:\n",
      "    https://scikit-learn.org/stable/modules/preprocessing.html\n",
      "Please also refer to the documentation for alternative solver options:\n",
      "    https://scikit-learn.org/stable/modules/linear_model.html#logistic-regression\n",
      "  n_iter_i = _check_optimize_result(\n"
     ]
    }
   ],
   "source": [
    "#Response\n",
    "y = {}\n",
    "y = df.appearance_good\n",
    "# 75% train 25% test\n",
    "X_train, X_test, y_train, y_test = train_test_split(X, y, test_size=0.25, random_state=1234)\n",
    "print('\\nX train dimensions:', X_train.shape, ' X test dimensions', X_test.shape)\n",
    "print('\\nY train dimensions:', y_train.shape, ' Y test dimensions', y_test.shape)\n",
    "\n",
    "models = [\n",
    "    ['Logistic_Regression', LogisticRegression()],\n",
    "    ['Naive_Bayes ', BernoulliNB()],\n",
    "    ['kNN_Regression', KNeighborsClassifier(n_neighbors=5)],\n",
    "    ['Decision_Tree', DecisionTreeClassifier()]\n",
    "]\n",
    "\n",
    "clf_acc = {}\n",
    "\n",
    "\n",
    "for clf, model in models:\n",
    "    model.fit(X_train, y_train)\n",
    "    y_pred = model.predict(X_test)\n",
    "    clf_acc[clf] = accuracy_score(y_test, y_pred)\n",
    "\n",
    "#Print the accuracies\n",
    "print(\"Accuracies for good appearance\")\n",
    "for clf in clf_acc:\n",
    "    print(\"Model:\",clf, '\\t',\"Accuracy:\", clf_acc[clf])"
   ]
  },
  {
   "cell_type": "markdown",
   "id": "8ac4d129",
   "metadata": {},
   "source": [
    "### Use knn for all since it has the highest accuracy"
   ]
  },
  {
   "cell_type": "code",
   "execution_count": 14,
   "id": "cee7d728",
   "metadata": {},
   "outputs": [
    {
     "data": {
      "text/html": [
       "<style>#sk-container-id-1 {color: black;background-color: white;}#sk-container-id-1 pre{padding: 0;}#sk-container-id-1 div.sk-toggleable {background-color: white;}#sk-container-id-1 label.sk-toggleable__label {cursor: pointer;display: block;width: 100%;margin-bottom: 0;padding: 0.3em;box-sizing: border-box;text-align: center;}#sk-container-id-1 label.sk-toggleable__label-arrow:before {content: \"▸\";float: left;margin-right: 0.25em;color: #696969;}#sk-container-id-1 label.sk-toggleable__label-arrow:hover:before {color: black;}#sk-container-id-1 div.sk-estimator:hover label.sk-toggleable__label-arrow:before {color: black;}#sk-container-id-1 div.sk-toggleable__content {max-height: 0;max-width: 0;overflow: hidden;text-align: left;background-color: #f0f8ff;}#sk-container-id-1 div.sk-toggleable__content pre {margin: 0.2em;color: black;border-radius: 0.25em;background-color: #f0f8ff;}#sk-container-id-1 input.sk-toggleable__control:checked~div.sk-toggleable__content {max-height: 200px;max-width: 100%;overflow: auto;}#sk-container-id-1 input.sk-toggleable__control:checked~label.sk-toggleable__label-arrow:before {content: \"▾\";}#sk-container-id-1 div.sk-estimator input.sk-toggleable__control:checked~label.sk-toggleable__label {background-color: #d4ebff;}#sk-container-id-1 div.sk-label input.sk-toggleable__control:checked~label.sk-toggleable__label {background-color: #d4ebff;}#sk-container-id-1 input.sk-hidden--visually {border: 0;clip: rect(1px 1px 1px 1px);clip: rect(1px, 1px, 1px, 1px);height: 1px;margin: -1px;overflow: hidden;padding: 0;position: absolute;width: 1px;}#sk-container-id-1 div.sk-estimator {font-family: monospace;background-color: #f0f8ff;border: 1px dotted black;border-radius: 0.25em;box-sizing: border-box;margin-bottom: 0.5em;}#sk-container-id-1 div.sk-estimator:hover {background-color: #d4ebff;}#sk-container-id-1 div.sk-parallel-item::after {content: \"\";width: 100%;border-bottom: 1px solid gray;flex-grow: 1;}#sk-container-id-1 div.sk-label:hover label.sk-toggleable__label {background-color: #d4ebff;}#sk-container-id-1 div.sk-serial::before {content: \"\";position: absolute;border-left: 1px solid gray;box-sizing: border-box;top: 0;bottom: 0;left: 50%;z-index: 0;}#sk-container-id-1 div.sk-serial {display: flex;flex-direction: column;align-items: center;background-color: white;padding-right: 0.2em;padding-left: 0.2em;position: relative;}#sk-container-id-1 div.sk-item {position: relative;z-index: 1;}#sk-container-id-1 div.sk-parallel {display: flex;align-items: stretch;justify-content: center;background-color: white;position: relative;}#sk-container-id-1 div.sk-item::before, #sk-container-id-1 div.sk-parallel-item::before {content: \"\";position: absolute;border-left: 1px solid gray;box-sizing: border-box;top: 0;bottom: 0;left: 50%;z-index: -1;}#sk-container-id-1 div.sk-parallel-item {display: flex;flex-direction: column;z-index: 1;position: relative;background-color: white;}#sk-container-id-1 div.sk-parallel-item:first-child::after {align-self: flex-end;width: 50%;}#sk-container-id-1 div.sk-parallel-item:last-child::after {align-self: flex-start;width: 50%;}#sk-container-id-1 div.sk-parallel-item:only-child::after {width: 0;}#sk-container-id-1 div.sk-dashed-wrapped {border: 1px dashed gray;margin: 0 0.4em 0.5em 0.4em;box-sizing: border-box;padding-bottom: 0.4em;background-color: white;}#sk-container-id-1 div.sk-label label {font-family: monospace;font-weight: bold;display: inline-block;line-height: 1.2em;}#sk-container-id-1 div.sk-label-container {text-align: center;}#sk-container-id-1 div.sk-container {/* jupyter's `normalize.less` sets `[hidden] { display: none; }` but bootstrap.min.css set `[hidden] { display: none !important; }` so we also need the `!important` here to be able to override the default hidden behavior on the sphinx rendered scikit-learn.org. See: https://github.com/scikit-learn/scikit-learn/issues/21755 */display: inline-block !important;position: relative;}#sk-container-id-1 div.sk-text-repr-fallback {display: none;}</style><div id=\"sk-container-id-1\" class=\"sk-top-container\"><div class=\"sk-text-repr-fallback\"><pre>KNeighborsClassifier()</pre><b>In a Jupyter environment, please rerun this cell to show the HTML representation or trust the notebook. <br />On GitHub, the HTML representation is unable to render, please try loading this page with nbviewer.org.</b></div><div class=\"sk-container\" hidden><div class=\"sk-item\"><div class=\"sk-estimator sk-toggleable\"><input class=\"sk-toggleable__control sk-hidden--visually\" id=\"sk-estimator-id-1\" type=\"checkbox\" checked><label for=\"sk-estimator-id-1\" class=\"sk-toggleable__label sk-toggleable__label-arrow\">KNeighborsClassifier</label><div class=\"sk-toggleable__content\"><pre>KNeighborsClassifier()</pre></div></div></div></div></div>"
      ],
      "text/plain": [
       "KNeighborsClassifier()"
      ]
     },
     "execution_count": 14,
     "metadata": {},
     "output_type": "execute_result"
    }
   ],
   "source": [
    "# 75% train 25% test\n",
    "X = df.loc[:, [ 'ABV','Min IBU','Max IBU','Astringency','Body','Alcohol','Bitter',\n",
    "               'Sweet','Sour','Salty','Fruits','Hoppy','Spices','Malty']]\n",
    "\n",
    "# Different model for different responses but all are knn\n",
    "clf_taste = KNeighborsClassifier(n_neighbors = 5)\n",
    "clf_aroma = KNeighborsClassifier(n_neighbors = 5)\n",
    "clf_palate = KNeighborsClassifier(n_neighbors = 5)\n",
    "clf_appearance = KNeighborsClassifier(n_neighbors = 5)\n",
    "\n",
    "# Good taste\n",
    "y = df.taste_good\n",
    "X_train, X_test, y_train, y_test = train_test_split(X, y, test_size=0.25, random_state=1234)\n",
    "clf_taste.fit(X_train, y_train)\n",
    "# Good aroma\n",
    "y = df.aroma_good\n",
    "X_train, X_test, y_train, y_test = train_test_split(X, y, test_size=0.25, random_state=1234)\n",
    "clf_aroma.fit(X_train, y_train)\n",
    "# Good palate\n",
    "y = df.palate_good\n",
    "X_train, X_test, y_train, y_test = train_test_split(X, y, test_size=0.25, random_state=1234)\n",
    "clf_palate.fit(X_train, y_train)\n",
    "# Good appearance\n",
    "y = df.appearance_good\n",
    "X_train, X_test, y_train, y_test = train_test_split(X, y, test_size=0.25, random_state=1234)\n",
    "clf_appearance.fit(X_train, y_train)\n"
   ]
  },
  {
   "cell_type": "markdown",
   "id": "80bd76b1",
   "metadata": {},
   "source": [
    "### Predict using new data which was not in the data frame"
   ]
  },
  {
   "cell_type": "code",
   "execution_count": 17,
   "id": "a551da81",
   "metadata": {},
   "outputs": [
    {
     "data": {
      "text/html": [
       "<div>\n",
       "<style scoped>\n",
       "    .dataframe tbody tr th:only-of-type {\n",
       "        vertical-align: middle;\n",
       "    }\n",
       "\n",
       "    .dataframe tbody tr th {\n",
       "        vertical-align: top;\n",
       "    }\n",
       "\n",
       "    .dataframe thead th {\n",
       "        text-align: right;\n",
       "    }\n",
       "</style>\n",
       "<table border=\"1\" class=\"dataframe\">\n",
       "  <thead>\n",
       "    <tr style=\"text-align: right;\">\n",
       "      <th></th>\n",
       "      <th>ABV</th>\n",
       "      <th>Min IBU</th>\n",
       "      <th>Max IBU</th>\n",
       "      <th>Astringency</th>\n",
       "      <th>Body</th>\n",
       "      <th>Alcohol</th>\n",
       "      <th>Bitter</th>\n",
       "      <th>Sweet</th>\n",
       "      <th>Sour</th>\n",
       "      <th>Salty</th>\n",
       "      <th>Fruits</th>\n",
       "      <th>Hoppy</th>\n",
       "      <th>Spices</th>\n",
       "      <th>Malty</th>\n",
       "      <th>taste_good</th>\n",
       "      <th>aroma_good</th>\n",
       "      <th>palate_good</th>\n",
       "      <th>appearance_good</th>\n",
       "    </tr>\n",
       "  </thead>\n",
       "  <tbody>\n",
       "    <tr>\n",
       "      <th>0</th>\n",
       "      <td>5.3</td>\n",
       "      <td>25</td>\n",
       "      <td>50</td>\n",
       "      <td>13</td>\n",
       "      <td>32</td>\n",
       "      <td>9</td>\n",
       "      <td>47</td>\n",
       "      <td>74</td>\n",
       "      <td>33</td>\n",
       "      <td>0</td>\n",
       "      <td>33</td>\n",
       "      <td>57</td>\n",
       "      <td>8</td>\n",
       "      <td>111</td>\n",
       "      <td>1</td>\n",
       "      <td>1</td>\n",
       "      <td>1</td>\n",
       "      <td>1</td>\n",
       "    </tr>\n",
       "    <tr>\n",
       "      <th>1</th>\n",
       "      <td>7.2</td>\n",
       "      <td>25</td>\n",
       "      <td>50</td>\n",
       "      <td>12</td>\n",
       "      <td>57</td>\n",
       "      <td>18</td>\n",
       "      <td>33</td>\n",
       "      <td>55</td>\n",
       "      <td>16</td>\n",
       "      <td>0</td>\n",
       "      <td>24</td>\n",
       "      <td>35</td>\n",
       "      <td>12</td>\n",
       "      <td>84</td>\n",
       "      <td>0</td>\n",
       "      <td>0</td>\n",
       "      <td>1</td>\n",
       "      <td>1</td>\n",
       "    </tr>\n",
       "    <tr>\n",
       "      <th>2</th>\n",
       "      <td>8.8</td>\n",
       "      <td>24</td>\n",
       "      <td>40</td>\n",
       "      <td>14</td>\n",
       "      <td>48</td>\n",
       "      <td>18</td>\n",
       "      <td>84</td>\n",
       "      <td>80</td>\n",
       "      <td>90</td>\n",
       "      <td>3</td>\n",
       "      <td>44</td>\n",
       "      <td>53</td>\n",
       "      <td>15</td>\n",
       "      <td>99</td>\n",
       "      <td>1</td>\n",
       "      <td>1</td>\n",
       "      <td>1</td>\n",
       "      <td>1</td>\n",
       "    </tr>\n",
       "  </tbody>\n",
       "</table>\n",
       "</div>"
      ],
      "text/plain": [
       "   ABV  Min IBU  Max IBU  Astringency  Body  Alcohol  Bitter  Sweet  Sour  \\\n",
       "0  5.3       25       50           13    32        9      47     74    33   \n",
       "1  7.2       25       50           12    57       18      33     55    16   \n",
       "2  8.8       24       40           14    48       18      84     80    90   \n",
       "\n",
       "   Salty  Fruits  Hoppy  Spices  Malty  taste_good  aroma_good  palate_good  \\\n",
       "0      0      33     57       8    111           1           1            1   \n",
       "1      0      24     35      12     84           0           0            1   \n",
       "2      3      44     53      15     99           1           1            1   \n",
       "\n",
       "   appearance_good  \n",
       "0                1  \n",
       "1                1  \n",
       "2                1  "
      ]
     },
     "metadata": {},
     "output_type": "display_data"
    }
   ],
   "source": [
    "# ABV=3.3\n",
    "# Min_IBU=40\n",
    "# Max_IBU=100\n",
    "# Astringency=31\n",
    "# Body=40\n",
    "# Alcohol=66\n",
    "# Bitter=47\n",
    "# Sweet=55\n",
    "# Sour=16\n",
    "# Salty=4\n",
    "# Fruits=47\n",
    "# Hoppy=40\n",
    "# Spices=20\n",
    "# Malty=9\n",
    "\n",
    "df_test_new= pd.read_csv('beer_profile_and_ratings_test.csv')\n",
    "taste_pred = clf_taste.predict(df_test_new)\n",
    "aroma_pred = clf_aroma.predict(df_test_new)\n",
    "palate_pred = clf_palate.predict(df_test_new)\n",
    "appearance_pred = clf_appearance.predict(df_test_new)\n",
    "\n",
    "df_test_new_results=df_test_new.copy(deep=True)\n",
    "df_test_new_results[\"taste_good\"]=taste_pred\n",
    "df_test_new_results[\"aroma_good\"]=aroma_pred\n",
    "df_test_new_results[\"palate_good\"]=palate_pred\n",
    "df_test_new_results[\"appearance_good\"]=appearance_pred\n",
    "display(df_test_new_results)\n",
    "# print(\"Taste good=\",taste_pred)\n",
    "# print(\"Aroma good=\",aroma_pred)\n",
    "# print(\"Palate good=\",palate_pred)\n",
    "# print(\"Appearance good=\",appearance_pred)"
   ]
  },
  {
   "cell_type": "markdown",
   "id": "cd914e4b",
   "metadata": {},
   "source": [
    "## Multi-class \"style\" classification"
   ]
  },
  {
   "cell_type": "code",
   "execution_count": 178,
   "id": "b5ca32cc",
   "metadata": {},
   "outputs": [
    {
     "name": "stdout",
     "output_type": "stream",
     "text": [
      "\n",
      "Dimensions of data frame: (3197, 25)\n",
      "Name\n",
      "Style\n",
      "Brewery\n",
      "Beer Name (Full)\n",
      "Description\n",
      "ABV\n",
      "Min IBU\n",
      "Max IBU\n",
      "Astringency\n",
      "Body\n",
      "Alcohol\n",
      "Bitter\n",
      "Sweet\n",
      "Sour\n",
      "Salty\n",
      "Fruits\n",
      "Hoppy\n",
      "Spices\n",
      "Malty\n",
      "review_aroma\n",
      "review_appearance\n",
      "review_palate\n",
      "review_taste\n",
      "review_overall\n",
      "number_of_reviews\n"
     ]
    }
   ],
   "source": [
    "df = pd.read_csv('beer_profile_and_ratings.csv')\n",
    "#print(df.head())\n",
    "print('\\nDimensions of data frame:', df.shape)\n",
    "for col in df.columns:\n",
    "    print(col)"
   ]
  },
  {
   "cell_type": "code",
   "execution_count": 48,
   "id": "ada70f98",
   "metadata": {},
   "outputs": [
    {
     "name": "stdout",
     "output_type": "stream",
     "text": [
      "\n",
      "New Dimensions of data frame: (3197, 15)\n"
     ]
    },
    {
     "data": {
      "text/plain": [
       "['Style',\n",
       " 'ABV',\n",
       " 'Min IBU',\n",
       " 'Max IBU',\n",
       " 'Astringency',\n",
       " 'Body',\n",
       " 'Alcohol',\n",
       " 'Bitter',\n",
       " 'Sweet',\n",
       " 'Sour',\n",
       " 'Salty',\n",
       " 'Fruits',\n",
       " 'Hoppy',\n",
       " 'Spices',\n",
       " 'Malty']"
      ]
     },
     "execution_count": 48,
     "metadata": {},
     "output_type": "execute_result"
    }
   ],
   "source": [
    "#Remove unwanted columns\n",
    "df = df.drop(columns=['Name','Brewery','Beer Name (Full)','Description',\n",
    "'review_aroma',\n",
    "'review_appearance',\n",
    "'review_palate',\n",
    "'review_taste',\n",
    "'review_overall',\n",
    "'number_of_reviews'])\n",
    "# drop rows with NAs\n",
    "df = df.dropna()\n",
    "# output new dimensions\n",
    "print('\\nNew Dimensions of data frame:', df.shape)\n",
    "list(df.columns)"
   ]
  },
  {
   "cell_type": "code",
   "execution_count": 49,
   "id": "6bca47a7",
   "metadata": {},
   "outputs": [
    {
     "name": "stdout",
     "output_type": "stream",
     "text": [
      "111\n"
     ]
    }
   ],
   "source": [
    "print(df['Style'].unique().size)"
   ]
  },
  {
   "cell_type": "code",
   "execution_count": 54,
   "id": "76ea4cd4",
   "metadata": {},
   "outputs": [
    {
     "name": "stdout",
     "output_type": "stream",
     "text": [
      "\n",
      "X train dimensions: (2397, 14)  X test dimensions (800, 14)\n",
      "\n",
      "Y train dimensions: (2397,)  Y test dimensions (800,)\n"
     ]
    }
   ],
   "source": [
    "#Predictors\n",
    "X = df.loc[:, [ 'ABV','Min IBU','Max IBU','Astringency','Body','Alcohol','Bitter','Sweet','Sour','Salty','Fruits','Hoppy','Spices','Malty']]\n",
    "#Response\n",
    "y = df.Style\n",
    "# 75% train 25% test\n",
    "X_train, X_test, y_train, y_test = train_test_split(X, y, test_size=0.25, random_state=1234)\n",
    "print('\\nX train dimensions:', X_train.shape, ' X test dimensions', X_test.shape)\n",
    "print('\\nY train dimensions:', y_train.shape, ' Y test dimensions', y_test.shape)"
   ]
  },
  {
   "cell_type": "code",
   "execution_count": 55,
   "id": "62bba27c",
   "metadata": {},
   "outputs": [],
   "source": [
    "models = [\n",
    "    ['Logistic_Regression', LogisticRegression()],\n",
    "    ['Naive_Bayes ', BernoulliNB()],\n",
    "    ['kNN_Regression', KNeighborsClassifier(n_neighbors=5)],\n",
    "    ['Decision_Tree', DecisionTreeClassifier(random_state=1234)],\n",
    "    ['Random Forest Classifier', RandomForestClassifier(n_estimators=1000)]\n",
    "]"
   ]
  },
  {
   "cell_type": "code",
   "execution_count": 179,
   "id": "cc54ea28",
   "metadata": {},
   "outputs": [],
   "source": [
    "clf_acc = {}\n",
    "\n",
    "for clf, model in models:\n",
    "    model.fit(X_train, y_train)\n",
    "    y_pred = model.predict(X_test)\n",
    "    clf_acc[clf] = accuracy_score(y_test, y_pred)"
   ]
  },
  {
   "cell_type": "code",
   "execution_count": 180,
   "id": "1ff547fd",
   "metadata": {},
   "outputs": [
    {
     "name": "stdout",
     "output_type": "stream",
     "text": [
      "Model: Logistic_Regression \t Accuracy: 0.8075\n",
      "Model: Naive_Bayes  \t Accuracy: 0.12625\n",
      "Model: kNN_Regression \t Accuracy: 0.86625\n",
      "Model: Decision_Tree \t Accuracy: 0.75\n",
      "Model: Random Forest Classifier \t Accuracy: 0.8675\n"
     ]
    }
   ],
   "source": [
    "for clf in clf_acc:\n",
    "    print(\"Model:\",clf, '\\t',\"Accuracy:\", clf_acc[clf])"
   ]
  },
  {
   "cell_type": "markdown",
   "id": "a8ee11e4",
   "metadata": {},
   "source": [
    "### Try XGBoost"
   ]
  },
  {
   "cell_type": "code",
   "execution_count": 24,
   "id": "3bc3be11",
   "metadata": {},
   "outputs": [],
   "source": [
    "xg_reg = xgb.XGBClassifier"
   ]
  },
  {
   "cell_type": "code",
   "execution_count": 30,
   "id": "fd5bc44f",
   "metadata": {},
   "outputs": [],
   "source": [
    "from sklearn.impute import SimpleImputer\n",
    "from sklearn.pipeline import Pipeline\n",
    "from sklearn.preprocessing import OneHotEncoder"
   ]
  },
  {
   "cell_type": "code",
   "execution_count": 32,
   "id": "1aa59c4e",
   "metadata": {},
   "outputs": [],
   "source": [
    "categorical_pipeline = Pipeline(\n",
    "    steps=[\n",
    "        (\"impute\", SimpleImputer(strategy=\"most_frequent\")),\n",
    "        (\"oh-encode\", OneHotEncoder(handle_unknown=\"ignore\", sparse=False)),\n",
    "    ]\n",
    ")"
   ]
  },
  {
   "cell_type": "code",
   "execution_count": 33,
   "id": "c4545a46",
   "metadata": {},
   "outputs": [],
   "source": [
    "from sklearn.preprocessing import StandardScaler\n",
    "\n",
    "numeric_pipeline = Pipeline(\n",
    "    steps=[(\"impute\", SimpleImputer(strategy=\"mean\")), \n",
    "           (\"scale\", StandardScaler())]\n",
    ")"
   ]
  },
  {
   "cell_type": "code",
   "execution_count": 35,
   "id": "cdb57d9e",
   "metadata": {},
   "outputs": [],
   "source": [
    "cat_cols = X.select_dtypes(exclude=\"number\").columns\n",
    "num_cols = X.select_dtypes(include=\"number\").columns"
   ]
  },
  {
   "cell_type": "code",
   "execution_count": 36,
   "id": "3e6663d5",
   "metadata": {},
   "outputs": [],
   "source": [
    "from sklearn.compose import ColumnTransformer\n",
    "\n",
    "full_processor = ColumnTransformer(\n",
    "    transformers=[\n",
    "        (\"numeric\", numeric_pipeline, num_cols),\n",
    "        (\"categorical\", categorical_pipeline, cat_cols),\n",
    "    ]\n",
    ")"
   ]
  },
  {
   "cell_type": "code",
   "execution_count": 37,
   "id": "3ac4276f",
   "metadata": {},
   "outputs": [
    {
     "name": "stdout",
     "output_type": "stream",
     "text": [
      "<class 'xgboost.sklearn.XGBClassifier'>\n"
     ]
    }
   ],
   "source": [
    "xgb_cl = xgb.XGBClassifier()\n",
    "print(type(xgb_cl))"
   ]
  },
  {
   "cell_type": "code",
   "execution_count": 44,
   "id": "2b5a8ce1",
   "metadata": {},
   "outputs": [
    {
     "name": "stderr",
     "output_type": "stream",
     "text": [
      "/Library/Frameworks/Python.framework/Versions/3.10/lib/python3.10/site-packages/sklearn/preprocessing/_label.py:115: DataConversionWarning: A column-vector y was passed when a 1d array was expected. Please change the shape of y to (n_samples, ), for example using ravel().\n",
      "  y = column_or_1d(y, warn=True)\n"
     ]
    }
   ],
   "source": [
    "# Apply preprocessing\n",
    "X_processed = full_processor.fit_transform(X)\n",
    "y_processed = SimpleImputer(strategy=\"most_frequent\").fit_transform(\n",
    "    y.values.reshape(-1, 1)\n",
    ")\n",
    "\n",
    "X_train, X_test, y_train, y_test = train_test_split(\n",
    "    X_processed, y_processed, stratify=y_processed, random_state=1121218\n",
    ")\n",
    "\n",
    "from sklearn.preprocessing import LabelEncoder\n",
    "le = LabelEncoder()\n",
    "y_train = le.fit_transform(y_train)\n",
    "y_test = le.fit_transform(y_test)"
   ]
  },
  {
   "cell_type": "code",
   "execution_count": 45,
   "id": "3981fb71",
   "metadata": {},
   "outputs": [
    {
     "data": {
      "text/plain": [
       "0.83"
      ]
     },
     "execution_count": 45,
     "metadata": {},
     "output_type": "execute_result"
    }
   ],
   "source": [
    "# Init classifier\n",
    "xgb_cl = xgb.XGBClassifier()\n",
    "\n",
    "# Fit\n",
    "xgb_cl.fit(X_train, y_train)\n",
    "\n",
    "# Predict\n",
    "preds = xgb_cl.predict(X_test)\n"
   ]
  },
  {
   "cell_type": "code",
   "execution_count": 46,
   "id": "645a9595",
   "metadata": {},
   "outputs": [
    {
     "name": "stdout",
     "output_type": "stream",
     "text": [
      "0.83\n"
     ]
    }
   ],
   "source": [
    "# Score\n",
    "print(accuracy_score(y_test, preds))"
   ]
  },
  {
   "cell_type": "markdown",
   "id": "9b82710c",
   "metadata": {},
   "source": [
    "## Clustering"
   ]
  },
  {
   "cell_type": "code",
   "execution_count": 3,
   "id": "2a1fcc8a",
   "metadata": {},
   "outputs": [
    {
     "name": "stdout",
     "output_type": "stream",
     "text": [
      "\n",
      "Dimensions of data frame: (3197, 25)\n",
      "Name\n",
      "Style\n",
      "Brewery\n",
      "Beer Name (Full)\n",
      "Description\n",
      "ABV\n",
      "Min IBU\n",
      "Max IBU\n",
      "Astringency\n",
      "Body\n",
      "Alcohol\n",
      "Bitter\n",
      "Sweet\n",
      "Sour\n",
      "Salty\n",
      "Fruits\n",
      "Hoppy\n",
      "Spices\n",
      "Malty\n",
      "review_aroma\n",
      "review_appearance\n",
      "review_palate\n",
      "review_taste\n",
      "review_overall\n",
      "number_of_reviews\n"
     ]
    }
   ],
   "source": [
    "df = pd.read_csv('beer_profile_and_ratings.csv')\n",
    "#print(df.head())\n",
    "print('\\nDimensions of data frame:', df.shape)\n",
    "for col in df.columns:\n",
    "    print(col)"
   ]
  },
  {
   "cell_type": "code",
   "execution_count": 4,
   "id": "577ea33f",
   "metadata": {},
   "outputs": [
    {
     "name": "stdout",
     "output_type": "stream",
     "text": [
      "\n",
      "New Dimensions of data frame: (3197, 14)\n"
     ]
    },
    {
     "data": {
      "text/plain": [
       "['ABV',\n",
       " 'Min IBU',\n",
       " 'Max IBU',\n",
       " 'Astringency',\n",
       " 'Body',\n",
       " 'Alcohol',\n",
       " 'Bitter',\n",
       " 'Sweet',\n",
       " 'Sour',\n",
       " 'Salty',\n",
       " 'Fruits',\n",
       " 'Hoppy',\n",
       " 'Spices',\n",
       " 'Malty']"
      ]
     },
     "execution_count": 4,
     "metadata": {},
     "output_type": "execute_result"
    }
   ],
   "source": [
    "#Remove unwanted columns\n",
    "df_clustering = df.drop(columns=['Name','Brewery','Style','Beer Name (Full)','Description',\n",
    "'review_aroma',\n",
    "'review_appearance',\n",
    "'review_palate',\n",
    "'review_taste',\n",
    "'review_overall',\n",
    "'number_of_reviews'])\n",
    "styles=df['Style']\n",
    "# drop rows with NAs\n",
    "df_clustering = df_clustering.dropna()\n",
    "# output new dimensions\n",
    "print('\\nNew Dimensions of data frame:', df_clustering.shape)\n",
    "list(df_clustering.columns)"
   ]
  },
  {
   "cell_type": "code",
   "execution_count": 5,
   "id": "045a0876",
   "metadata": {},
   "outputs": [],
   "source": [
    "from sklearn.cluster import KMeans"
   ]
  },
  {
   "cell_type": "code",
   "execution_count": 6,
   "id": "43b1e88f",
   "metadata": {},
   "outputs": [],
   "source": [
    "from sklearn.preprocessing import MinMaxScaler\n",
    "scaler = MinMaxScaler()\n",
    "df_clustering_scaled=df_clustering\n",
    "for col in df_clustering_scaled.columns:\n",
    "    scaler.fit(df_clustering_scaled[[col]])\n",
    "    df_clustering_scaled[col] = scaler.transform(df_clustering_scaled[[col]])"
   ]
  },
  {
   "cell_type": "code",
   "execution_count": 7,
   "id": "e98803b1",
   "metadata": {},
   "outputs": [
    {
     "name": "stdout",
     "output_type": "stream",
     "text": [
      "[ 13  66  42 ... 106  44  12]\n"
     ]
    }
   ],
   "source": [
    "km = KMeans(n_clusters=111,random_state=1234)\n",
    "y_predicted = km.fit_predict(df_clustering_scaled)\n",
    "print(y_predicted)"
   ]
  },
  {
   "cell_type": "code",
   "execution_count": 8,
   "id": "16534045",
   "metadata": {},
   "outputs": [],
   "source": [
    "from sklearn.metrics import silhouette_score\n"
   ]
  },
  {
   "cell_type": "code",
   "execution_count": 9,
   "id": "9475c9e2",
   "metadata": {},
   "outputs": [
    {
     "name": "stdout",
     "output_type": "stream",
     "text": [
      "3197\n"
     ]
    }
   ],
   "source": [
    "print(df_clustering_scaled.shape[0])"
   ]
  },
  {
   "cell_type": "code",
   "execution_count": 10,
   "id": "e6b66f91",
   "metadata": {},
   "outputs": [],
   "source": [
    "min_clusters=2\n",
    "max_clusters=150\n",
    "krng=range(min_clusters,max_clusters)\n",
    "sil_score=list()\n",
    "k_means_labels_list=list()\n",
    "sse_list=list()\n",
    "cluster_centers=list()\n",
    "for num_clusters in krng:\n",
    "    # initialise kmeans\n",
    "    kmeans = KMeans(n_clusters=num_clusters,random_state=123)\n",
    "    kmeans.fit(df_clustering_scaled)\n",
    "    cluster_centers.append(kmeans.cluster_centers_)\n",
    "    k_means_labels_list.append(kmeans.labels_)\n",
    "    sse_list.append(kmeans.inertia_)\n",
    "    sil_score.append(silhouette_score(df_clustering_scaled, kmeans.labels_))"
   ]
  },
  {
   "cell_type": "markdown",
   "id": "541d3d04",
   "metadata": {},
   "source": [
    "### Knee Locator"
   ]
  },
  {
   "cell_type": "code",
   "execution_count": 12,
   "id": "29acf770",
   "metadata": {},
   "outputs": [],
   "source": [
    "from kneed import KneeLocator"
   ]
  },
  {
   "cell_type": "code",
   "execution_count": 13,
   "id": "80fdce4d",
   "metadata": {},
   "outputs": [
    {
     "data": {
      "image/png": "[encoded data removed]",
      "text/plain": [
       "<Figure size 432x288 with 1 Axes>"
      ]
     },
     "metadata": {
      "needs_background": "light"
     },
     "output_type": "display_data"
    }
   ],
   "source": [
    "plt.plot(krng,sse_list,'bx-')\n",
    "plt.xlabel('Values of K') \n",
    "plt.ylabel('Sum of squared error') \n",
    "plt.title('Knee Locator plot')\n",
    "plt.show()"
   ]
  },
  {
   "cell_type": "code",
   "execution_count": 14,
   "id": "32f25002",
   "metadata": {},
   "outputs": [
    {
     "name": "stdout",
     "output_type": "stream",
     "text": [
      "Optimal Number Of clusters = 28\n"
     ]
    }
   ],
   "source": [
    "kn = KneeLocator(x=krng, \n",
    "                 y=sse_list, \n",
    "                 curve='convex', \n",
    "                 direction='decreasing')\n",
    "\n",
    "\n",
    "optimal_n_clusters_knee_locator=kn.knee\n",
    "print(\"Optimal Number Of clusters =\",optimal_n_clusters_knee_locator)"
   ]
  },
  {
   "cell_type": "markdown",
   "id": "3dadd118",
   "metadata": {},
   "source": [
    "### Sihouette Analysis"
   ]
  },
  {
   "cell_type": "code",
   "execution_count": 15,
   "id": "e8d1509d",
   "metadata": {},
   "outputs": [
    {
     "data": {
      "image/png": "[encoded data removed]",
      "text/plain": [
       "<Figure size 432x288 with 1 Axes>"
      ]
     },
     "metadata": {
      "needs_background": "light"
     },
     "output_type": "display_data"
    }
   ],
   "source": [
    "plt.plot(krng,sil_score,'bx-')\n",
    "plt.xlabel('Values of K') \n",
    "plt.ylabel('Silhouette score') \n",
    "plt.title('Silhouette analysis For Optimal k')\n",
    "plt.show()"
   ]
  },
  {
   "cell_type": "code",
   "execution_count": 82,
   "id": "22c37d94",
   "metadata": {},
   "outputs": [
    {
     "name": "stdout",
     "output_type": "stream",
     "text": [
      "Optimal Number Of clusters= 2  Sil score= 0.23307802687129345\n"
     ]
    }
   ],
   "source": [
    "max_sil_score=max(sil_score)\n",
    "optimal_n_clusters_sil_analysis = min_clusters + sil_score.index(max_sil_score)\n",
    "print(\"Optimal Number Of clusters=\",optimal_n_clusters_sil_analysis,\" Sil score=\",max_sil_score)"
   ]
  },
  {
   "cell_type": "markdown",
   "id": "f71f4fa1",
   "metadata": {},
   "source": [
    "### Plot Cluster Data"
   ]
  },
  {
   "cell_type": "code",
   "execution_count": 16,
   "id": "7bde451b",
   "metadata": {},
   "outputs": [],
   "source": [
    "num_clusters=optimal_n_clusters_knee_locator\n",
    "labels_for_optimal_cluster_value=k_means_labels_list[num_clusters-min_clusters]\n",
    "cluster_centers_for_optimal_value= np.array(cluster_centers[num_clusters-min_clusters])"
   ]
  },
  {
   "cell_type": "code",
   "execution_count": 17,
   "id": "76aaab8e",
   "metadata": {},
   "outputs": [
    {
     "name": "stdout",
     "output_type": "stream",
     "text": [
      "Index(['ABV', 'Min IBU', 'Max IBU', 'Astringency', 'Body', 'Alcohol', 'Bitter',\n",
      "       'Sweet', 'Sour', 'Salty', 'Fruits', 'Hoppy', 'Spices', 'Malty'],\n",
      "      dtype='object')\n"
     ]
    }
   ],
   "source": [
    "print(df_clustering_scaled.columns)"
   ]
  },
  {
   "cell_type": "code",
   "execution_count": 18,
   "id": "4dc501bb",
   "metadata": {},
   "outputs": [
    {
     "name": "stdout",
     "output_type": "stream",
     "text": [
      "28\n"
     ]
    },
    {
     "data": {
      "image/png": "[encoded data removed]",
      "text/plain": [
       "<Figure size 1512x1584 with 1 Axes>"
      ]
     },
     "metadata": {
      "needs_background": "light"
     },
     "output_type": "display_data"
    }
   ],
   "source": [
    "df_cluster_plot=df_clustering_scaled.copy(deep=True)\n",
    "df_cluster_plot['clusters']=labels_for_optimal_cluster_value\n",
    "clus_df_list_for_clusters=list()\n",
    "color_list=['ffa07a','2f4f4f','556b2f','8b4513','483d8b','008000','bc8f8f','bdb76b',\n",
    "'00008b','daa520','8b008b','b03060','ff0000','ffff00','00ff00','8a2be2','00ff7f','dc143c','00ffff','00bfff','0000ff','adff2f','ff00ff','1e90ff','dda0dd','b0e0e6',\n",
    "'ff1493','ffa07a']\n",
    "print(len(color_list))\n",
    "color_i=0\n",
    "columns_to_plot=['Astringency','ABV']\n",
    "plt.xlabel(columns_to_plot[0])\n",
    "plt.ylabel(columns_to_plot[1])\n",
    "for cluster in range(num_clusters):\n",
    "    df_for_cluster=df[df_cluster_plot.clusters==cluster]\n",
    "    plt.scatter(df_for_cluster[columns_to_plot[0]],df_for_cluster[columns_to_plot[1]],color='#'+color_list[color_i])\n",
    "    \n",
    "    color_i+=1\n",
    "    if color_i==(len(color_list)-1):\n",
    "        color_i=0 \n",
    "\n",
    "plt.scatter(cluster_centers_for_optimal_value[:,df_clustering_scaled.columns.get_loc(columns_to_plot[0])]\n",
    ",cluster_centers_for_optimal_value[:,df_clustering_scaled.columns.get_loc(columns_to_plot[1])],color='black',marker='*',label='centroid')\n",
    "plt.legend()\n",
    "fig = plt.gcf()\n",
    "fig.set_size_inches(21, 22)\n",
    "#fig.savefig('test2png.png', dpi=100)\n"
   ]
  },
  {
   "cell_type": "markdown",
   "id": "3a2a91d0",
   "metadata": {},
   "source": [
    "### Classify based on cluster labels"
   ]
  },
  {
   "cell_type": "code",
   "execution_count": 24,
   "id": "9d67cba4",
   "metadata": {},
   "outputs": [],
   "source": [
    "num_clusters=111\n",
    "#num_clusters=optimal_n_clusters_sil_analysis\n",
    "#num_clusters=optimal_n_clusters_knee_locator\n",
    "labels_for_optimal_cluster_value=k_means_labels_list[num_clusters-min_clusters]\n",
    "labels_for_optimal_cluster_value = [str(k) for k in labels_for_optimal_cluster_value]"
   ]
  },
  {
   "cell_type": "code",
   "execution_count": 25,
   "id": "fb8e934a",
   "metadata": {},
   "outputs": [
    {
     "name": "stdout",
     "output_type": "stream",
     "text": [
      "111\n"
     ]
    }
   ],
   "source": [
    "#To make sure\n",
    "array = np.array(labels_for_optimal_cluster_value)\n",
    "unique = np.unique(array)\n",
    "num_values = len(unique)\n",
    "\n",
    "print(num_values)"
   ]
  },
  {
   "cell_type": "code",
   "execution_count": 26,
   "id": "db82f61d",
   "metadata": {},
   "outputs": [
    {
     "name": "stdout",
     "output_type": "stream",
     "text": [
      "\n",
      "X train dimensions: (2397, 14)  X test dimensions (800, 14)\n",
      "\n",
      "Y train dimensions: (2397, 0)  Y test dimensions (800, 0)\n"
     ]
    }
   ],
   "source": [
    "#Predictors\n",
    "X = df_clustering\n",
    "#Response\n",
    "y = labels_for_optimal_cluster_value\n",
    "# 75% train 25% test\n",
    "X_train, X_test, y_train, y_test = train_test_split(X, y, test_size=0.25, random_state=123)\n",
    "print('\\nX train dimensions:', X_train.shape, ' X test dimensions', X_test.shape)\n",
    "print('\\nY train dimensions:', (len(y_train),0), ' Y test dimensions', (len(y_test),0))"
   ]
  },
  {
   "cell_type": "code",
   "execution_count": 27,
   "id": "2331a796",
   "metadata": {},
   "outputs": [],
   "source": [
    "models = [\n",
    "    ['Logistic_Regression', LogisticRegression()],\n",
    "    ['Naive_Bayes ', BernoulliNB()],\n",
    "    ['kNN_Regression', KNeighborsClassifier(n_neighbors=5)],\n",
    "    ['Decision_Tree', DecisionTreeClassifier(random_state=123)],\n",
    "    ['Random Forest Classifier', RandomForestClassifier(n_estimators=1000)]\n",
    "]\n",
    "\n",
    "clf_acc = {}\n",
    "\n",
    "for clf, model in models:\n",
    "    model.fit(X_train, y_train)\n",
    "    y_pred = model.predict(X_test)\n",
    "    clf_acc[clf] = accuracy_score(y_test, y_pred)"
   ]
  },
  {
   "cell_type": "code",
   "execution_count": 28,
   "id": "b6fe5f73",
   "metadata": {},
   "outputs": [
    {
     "name": "stdout",
     "output_type": "stream",
     "text": [
      "Model: Logistic_Regression \t Accuracy: 0.45375\n",
      "Model: Naive_Bayes  \t Accuracy: 0.05875\n",
      "Model: kNN_Regression \t Accuracy: 0.77875\n",
      "Model: Decision_Tree \t Accuracy: 0.62\n",
      "Model: Random Forest Classifier \t Accuracy: 0.80375\n"
     ]
    }
   ],
   "source": [
    "for clf in clf_acc:\n",
    "    print(\"Model:\",clf, '\\t',\"Accuracy:\", clf_acc[clf])"
   ]
  }
 ],
 "metadata": {
  "kernelspec": {
   "display_name": "Python 3.10.4 64-bit",
   "language": "python",
   "name": "python3"
  },
  "language_info": {
   "codemirror_mode": {
    "name": "ipython",
    "version": 3
   },
   "file_extension": ".py",
   "mimetype": "text/x-python",
   "name": "python",
   "nbconvert_exporter": "python",
   "pygments_lexer": "ipython3",
   "version": "3.10.4 (v3.10.4:9d38120e33, Mar 23 2022, 17:29:05) [Clang 13.0.0 (clang-1300.0.29.30)]"
  },
  "vscode": {
   "interpreter": {
    "hash": "949777d72b0d2535278d3dc13498b2535136f6dfe0678499012e853ee9abcab1"
   }
  }
 },
 "nbformat": 4,
 "nbformat_minor": 5
}
